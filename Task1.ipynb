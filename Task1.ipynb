{
  "nbformat": 4,
  "nbformat_minor": 0,
  "metadata": {
    "colab": {
      "provenance": []
    },
    "kernelspec": {
      "name": "python3",
      "display_name": "Python 3"
    },
    "language_info": {
      "name": "python"
    },
    "accelerator": "GPU",
    "gpuClass": "standard"
  },
  "cells": [
    {
      "cell_type": "markdown",
      "source": [
        "# Project A: Knowledge Distillation for Building Lightweight Deep Learning Models in Visual Classification Tasks"
      ],
      "metadata": {
        "id": "6WYMfvCNPwpm"
      }
    },
    {
      "cell_type": "code",
      "source": [
        "import tensorflow.compat.v2 as tf\n",
        "import tensorflow_datasets as tfds\n",
        "from typing import Union\n",
        "from tensorflow.keras.layers import *\n",
        "import keras\n",
        "import numpy\n",
        "import pandas as pd\n",
        "import matplotlib.pyplot as plt\n",
        "tf.enable_v2_behavior()\n",
        "\n",
        "builder = tfds.builder('mnist')\n",
        "BATCH_SIZE = 256\n",
        "NUM_EPOCHS = 12\n",
        "NUM_CLASSES = 10  # 10 total classes."
      ],
      "metadata": {
        "id": "vA8ppgB2P0aJ"
      },
      "execution_count": 6,
      "outputs": []
    },
    {
      "cell_type": "markdown",
      "source": [
        "# Data loading"
      ],
      "metadata": {
        "id": "H2EFLQROP2R7"
      }
    },
    {
      "cell_type": "code",
      "source": [
        "# Load train and test splits.\n",
        "def preprocess(x):\n",
        "  image = tf.image.convert_image_dtype(x['image'], tf.float32)\n",
        "  subclass_labels = tf.one_hot(x['label'], builder.info.features['label'].num_classes)\n",
        "  return image, subclass_labels\n",
        "\n",
        "\n",
        "mnist_train = tfds.load('mnist', split='train', shuffle_files=False).cache()\n",
        "mnist_train = mnist_train.map(preprocess)\n",
        "mnist_train = mnist_train.shuffle(builder.info.splits['train'].num_examples)\n",
        "mnist_train = mnist_train.batch(BATCH_SIZE, drop_remainder=True)\n",
        "\n",
        "mnist_test = tfds.load('mnist', split='test').cache()\n",
        "mnist_test = mnist_test.map(preprocess).batch(BATCH_SIZE)"
      ],
      "metadata": {
        "id": "ynByMG_UP4A4"
      },
      "execution_count": 7,
      "outputs": []
    },
    {
      "cell_type": "markdown",
      "source": [
        "# Model creation"
      ],
      "metadata": {
        "id": "kAZwfvW5P63q"
      }
    },
    {
      "cell_type": "code",
      "source": [
        "\n",
        "\n",
        "# Build CNN teacher.\n",
        "cnn_model = tf.keras.Sequential(\n",
        "    [\n",
        "        tf.keras.layers.Conv2D(32, (3,3),strides=1, padding='same', activation=\"relu\",input_shape=(28, 28, 1)),\n",
        "        tf.keras.layers.MaxPool2D((2,2),strides=1),\n",
        "     \n",
        "        tf.keras.layers.Conv2D(64, (3,3),strides=1, padding='same', activation=\"relu\"),\n",
        "        tf.keras.layers.MaxPool2D((2,2),strides=2),\n",
        "     \n",
        "        tf.keras.layers.Flatten(),\n",
        "        tf.keras.layers.Dropout(rate=0.5),\n",
        "        tf.keras.layers.Dense(units=128, activation='relu'),\n",
        "        tf.keras.layers.Dropout(rate=0.5),\n",
        "        tf.keras.layers.Dense(units=10, activation='linear')\n",
        "    ]\n",
        ")\n",
        "\n",
        "# your code start from here for stpe 2\n",
        "\n",
        "\n",
        "\n",
        "# Build fully connected student.\n",
        "fc_model = tf.keras.Sequential([\n",
        "    tf.keras.layers.Flatten(),\n",
        "    tf.keras.layers.Dense(units=784, activation='relu'),\n",
        "    tf.keras.layers.Dense(units=784, activation='relu'),\n",
        "    tf.keras.layers.Dense(units=10, activation='linear')])\n",
        "\n",
        "\n",
        "\n",
        "# your code start from here for step 2\n",
        "\n",
        "\n"
      ],
      "metadata": {
        "id": "zINgDkA7P7BP"
      },
      "execution_count": 8,
      "outputs": []
    },
    {
      "cell_type": "code",
      "source": [
        "cnn_model.summary()"
      ],
      "metadata": {
        "colab": {
          "base_uri": "https://localhost:8080/"
        },
        "id": "IvlPkBDYx6qU",
        "outputId": "29f5e622-1849-42c0-adc5-92bd7ff76ff5"
      },
      "execution_count": 9,
      "outputs": [
        {
          "output_type": "stream",
          "name": "stdout",
          "text": [
            "Model: \"sequential_2\"\n",
            "_________________________________________________________________\n",
            " Layer (type)                Output Shape              Param #   \n",
            "=================================================================\n",
            " conv2d_2 (Conv2D)           (None, 28, 28, 32)        320       \n",
            "                                                                 \n",
            " max_pooling2d_2 (MaxPooling  (None, 27, 27, 32)       0         \n",
            " 2D)                                                             \n",
            "                                                                 \n",
            " conv2d_3 (Conv2D)           (None, 27, 27, 64)        18496     \n",
            "                                                                 \n",
            " max_pooling2d_3 (MaxPooling  (None, 13, 13, 64)       0         \n",
            " 2D)                                                             \n",
            "                                                                 \n",
            " flatten_2 (Flatten)         (None, 10816)             0         \n",
            "                                                                 \n",
            " dropout_2 (Dropout)         (None, 10816)             0         \n",
            "                                                                 \n",
            " dense_5 (Dense)             (None, 128)               1384576   \n",
            "                                                                 \n",
            " dropout_3 (Dropout)         (None, 128)               0         \n",
            "                                                                 \n",
            " dense_6 (Dense)             (None, 10)                1290      \n",
            "                                                                 \n",
            "=================================================================\n",
            "Total params: 1,404,682\n",
            "Trainable params: 1,404,682\n",
            "Non-trainable params: 0\n",
            "_________________________________________________________________\n"
          ]
        }
      ]
    },
    {
      "cell_type": "code",
      "source": [
        "tf.keras.utils.plot_model(\n",
        "    cnn_model,\n",
        "    to_file=\"cnn_model.png\",\n",
        "    show_shapes=True,\n",
        "    show_layer_names=True,\n",
        "    rankdir=\"TB\",\n",
        "    expand_nested=True,\n",
        "    dpi=96,\n",
        ")"
      ],
      "metadata": {
        "colab": {
          "base_uri": "https://localhost:8080/",
          "height": 1000
        },
        "id": "sskuLmZ8x_j5",
        "outputId": "c001b0ca-4de1-4271-f5e0-2cb0e3269aa6"
      },
      "execution_count": 10,
      "outputs": [
        {
          "output_type": "execute_result",
          "data": {
            "image/png": "[encoded data removed]",
            "text/plain": [
              "<IPython.core.display.Image object>"
            ]
          },
          "metadata": {},
          "execution_count": 10
        }
      ]
    },
    {
      "cell_type": "markdown",
      "source": [
        "# Teacher loss function"
      ],
      "metadata": {
        "id": "8JWGucyrQGav"
      }
    },
    {
      "cell_type": "code",
      "source": [
        "@tf.function\n",
        "def compute_teacher_loss(images, labels):\n",
        "  \"\"\"Compute subclass knowledge distillation teacher loss for given images\n",
        "     and labels.\n",
        "\n",
        "  Args:\n",
        "    images: Tensor representing a batch of images.\n",
        "    labels: Tensor representing a batch of labels.\n",
        "\n",
        "  Returns:\n",
        "    Scalar loss Tensor.\n",
        "  \"\"\"\n",
        "  subclass_logits = cnn_model(images, training=True)\n",
        "\n",
        "  # Compute cross-entropy loss for subclasses.\n",
        "\n",
        "  # your code start from here for step 3\n",
        "\n",
        "  loss=tf.keras.losses.CategoricalCrossentropy(axis=-1,name='categorical_crossentropy')\n",
        "  cross_entropy_loss_value = loss(labels,tf.nn.softmax(subclass_logits, axis=-1))\n",
        "\n",
        "\n",
        "\n",
        "  return cross_entropy_loss_value"
      ],
      "metadata": {
        "id": "DhzBP6ZLQJ57"
      },
      "execution_count": 11,
      "outputs": []
    },
    {
      "cell_type": "markdown",
      "source": [
        "# Student loss function"
      ],
      "metadata": {
        "id": "JS8xkuH0QbOS"
      }
    },
    {
      "cell_type": "code",
      "source": [
        "\n",
        "\n",
        "# Hyperparameters for distillation (need to be tuned).\n",
        "ALPHA = 0.5 # task balance between cross-entropy and distillation loss\n",
        "DISTILLATION_TEMPERATURE = 4. #temperature hyperparameter\n",
        "\n",
        "def distillation_loss(teacher_logits: tf.Tensor, student_logits: tf.Tensor,\n",
        "                      temperature: Union[float, tf.Tensor]):\n",
        "  \"\"\"Compute distillation loss.\n",
        "\n",
        "  This function computes cross entropy between softened logits and softened\n",
        "  targets. The resulting loss is scaled by the squared temperature so that\n",
        "  the gradient magnitude remains approximately constant as the temperature is\n",
        "  changed. For reference, see Hinton et al., 2014, \"Distilling the knowledge in\n",
        "  a neural network.\"\n",
        "\n",
        "  Args:\n",
        "    teacher_logits: A Tensor of logits provided by the teacher.\n",
        "    student_logits: A Tensor of logits provided by the student, of the same\n",
        "      shape as `teacher_logits`.\n",
        "    temperature: Temperature to use for distillation.\n",
        "\n",
        "  Returns:\n",
        "    A scalar Tensor containing the distillation loss.\n",
        "  \"\"\"\n",
        " # your code start from here for step 3\n",
        "  soft_targets = tf.nn.softmax(teacher_logits/temperature)\n",
        "\n",
        "  return tf.reduce_mean(\n",
        "      tf.nn.softmax_cross_entropy_with_logits(\n",
        "          soft_targets, student_logits / temperature)) * temperature ** 2\n",
        "\n",
        "def compute_student_loss(images, labels,ALPHA, DISTILLATION_TEMPERATURE):\n",
        "  \"\"\"Compute subclass knowledge distillation student loss for given images\n",
        "     and labels.\n",
        "\n",
        "  Args:\n",
        "    images: Tensor representing a batch of images.\n",
        "    labels: Tensor representing a batch of labels.\n",
        "\n",
        "  Returns:\n",
        "    Scalar loss Tensor.\n",
        "  \"\"\"\n",
        "  student_subclass_logits = fc_model(images, training=True)\n",
        "\n",
        "  # Compute subclass distillation loss between student subclass logits and\n",
        "  # softened teacher subclass targets probabilities.\n",
        "\n",
        "  # your code start from here for step 3\n",
        "\n",
        "  teacher_subclass_logits = cnn_model(images, training=False)\n",
        "  distillation_loss_value =distillation_loss(teacher_subclass_logits,student_subclass_logits, DISTILLATION_TEMPERATURE )\n",
        "\n",
        "  # Compute cross-entropy loss with hard targets.\n",
        "\n",
        "  # your code start from here for step 3\n",
        "\n",
        "  loss=tf.keras.losses.CategoricalCrossentropy(axis=-1,name='categorical_crossentropy')\n",
        "  cross_entropy_loss_value = loss(labels,tf.nn.softmax(student_subclass_logits, axis=-1))\n",
        "\n",
        "  return (ALPHA*  distillation_loss_value + (1-ALPHA)* cross_entropy_loss_value)"
      ],
      "metadata": {
        "id": "lDKia4gPQMIr"
      },
      "execution_count": 12,
      "outputs": []
    },
    {
      "cell_type": "markdown",
      "source": [
        "# Train and evaluation"
      ],
      "metadata": {
        "id": "RJ1uyvurQ3w4"
      }
    },
    {
      "cell_type": "code",
      "source": [
        "@tf.function\n",
        "def compute_num_correct(model, images, labels):\n",
        "  \"\"\"Compute number of correctly classified images in a batch.\n",
        "\n",
        "  Args:\n",
        "    model: Instance of tf.keras.Model.\n",
        "    images: Tensor representing a batch of images.\n",
        "    labels: Tensor representing a batch of labels.\n",
        "\n",
        "  Returns:\n",
        "    Number of correctly classified images.\n",
        "  \"\"\"\n",
        "  class_logits = model(images, training=False)\n",
        "  return tf.reduce_sum(\n",
        "      tf.cast(tf.math.equal(tf.argmax(class_logits, -1), tf.argmax(labels, -1)),\n",
        "              tf.float32)), tf.argmax(class_logits, -1), tf.argmax(labels, -1)\n",
        "\n",
        "\n",
        "def train_and_evaluate(model, compute_loss_fn):\n",
        "  \"\"\"Perform training and evaluation for a given model.\n",
        "\n",
        "  Args:\n",
        "    model: Instance of tf.keras.Model.\n",
        "    compute_loss_fn: A function that computes the training loss given the\n",
        "      images, and labels.\n",
        "  \"\"\"\n",
        "\n",
        "  # your code start from here for step 4\n",
        "  optimizer = tf.keras.optimizers.Adam(learning_rate=0.001)\n",
        "\n",
        "\n",
        "  for epoch in range(1, NUM_EPOCHS + 1):\n",
        "    # Run training.\n",
        "    print('Epoch {}: '.format(epoch), end='')\n",
        "    for images, labels in mnist_train:\n",
        "      with tf.GradientTape() as tape:\n",
        "         # your code start from here for step 4\n",
        "\n",
        "        loss_value = compute_loss_fn(images,labels)\n",
        "\n",
        "      grads = tape.gradient(loss_value, model.trainable_variables)\n",
        "      optimizer.apply_gradients(zip(grads, model.trainable_variables))\n",
        "\n",
        "    # Run evaluation.\n",
        "    num_correct = 0\n",
        "    num_total = builder.info.splits['test'].num_examples\n",
        "    for images, labels in mnist_test:\n",
        "      # your code start from here for step 4\n",
        "      num_correct += compute_num_correct(model,images,labels)[0] \n",
        "    print(\"Class_accuracy: \" + '{:.2f}%'.format(\n",
        "        num_correct / num_total * 100))\n"
      ],
      "metadata": {
        "id": "EtoLbp8uQ4Vl"
      },
      "execution_count": 13,
      "outputs": []
    },
    {
      "cell_type": "code",
      "source": [
        "def student_train_and_evaluate(model, compute_loss_fn, ALPHA=0.7, DISTILLATION_TEMPERATURE=8. ):\n",
        "  \"\"\"Perform training and evaluation for a student model.\n",
        "\n",
        "  Args:\n",
        "    model: Instance of tf.keras.Model.\n",
        "    compute_loss_fn: A function that computes the training loss given the\n",
        "      images, and labels.\n",
        "  \"\"\"\n",
        "\n",
        "  # your code start from here for step 4\n",
        "  optimizer = tf.keras.optimizers.Adam(learning_rate=0.001)\n",
        "\n",
        "  for epoch in range(1, NUM_EPOCHS + 1):\n",
        "    # Run training.\n",
        "    print('Epoch {}: '.format(epoch), end='')\n",
        "    for images, labels in mnist_train:\n",
        "      with tf.GradientTape() as tape:\n",
        "         # your code start from here for step 4\n",
        "\n",
        "        loss_value = compute_loss_fn(images,labels, ALPHA, DISTILLATION_TEMPERATURE)\n",
        "\n",
        "      grads = tape.gradient(loss_value, model.trainable_variables)\n",
        "      optimizer.apply_gradients(zip(grads, model.trainable_variables))\n",
        "\n",
        "    # Run evaluation.\n",
        "    num_correct = 0\n",
        "    num_total = builder.info.splits['test'].num_examples\n",
        "    for images, labels in mnist_test:\n",
        "      # your code start from here for step 4\n",
        "      num_correct += compute_num_correct(model,images,labels)[0] \n",
        "    print(\"Class_accuracy: \" + '{:.2f}%'.format(\n",
        "        num_correct / num_total * 100))"
      ],
      "metadata": {
        "id": "n9o33oVh2qpy"
      },
      "execution_count": 14,
      "outputs": []
    },
    {
      "cell_type": "markdown",
      "source": [
        "# Training models"
      ],
      "metadata": {
        "id": "NQL1lJdaRPT1"
      }
    },
    {
      "cell_type": "code",
      "source": [
        "# your code start from here for step 5 \n",
        "#First training the teacher\n",
        "\n",
        "train_and_evaluate(cnn_model,compute_teacher_loss)"
      ],
      "metadata": {
        "id": "-AGHbyABRPz3",
        "colab": {
          "base_uri": "https://localhost:8080/"
        },
        "outputId": "03c94cc3-690f-4933-bd75-2d2fdf56d833"
      },
      "execution_count": 15,
      "outputs": [
        {
          "output_type": "stream",
          "name": "stdout",
          "text": [
            "Epoch 1: Class_accuracy: 98.15%\n",
            "Epoch 2: Class_accuracy: 98.58%\n",
            "Epoch 3: Class_accuracy: 98.80%\n",
            "Epoch 4: Class_accuracy: 98.96%\n",
            "Epoch 5: Class_accuracy: 99.13%\n",
            "Epoch 6: Class_accuracy: 98.97%\n",
            "Epoch 7: Class_accuracy: 99.04%\n",
            "Epoch 8: Class_accuracy: 98.99%\n",
            "Epoch 9: Class_accuracy: 99.20%\n",
            "Epoch 10: Class_accuracy: 99.23%\n",
            "Epoch 11: Class_accuracy: 99.20%\n",
            "Epoch 12: Class_accuracy: 99.19%\n"
          ]
        }
      ]
    },
    {
      "cell_type": "code",
      "source": [
        "#Redefining student model for training\n",
        "fc_model = tf.keras.Sequential([tf.keras.layers.Flatten(),\n",
        "                                tf.keras.layers.Dense(units=784, activation='relu'),\n",
        "                                tf.keras.layers.Dense(units=784, activation='relu'),\n",
        "                                tf.keras.layers.Dense(units=10, activation='linear')])"
      ],
      "metadata": {
        "id": "FUnooDyS3m3T"
      },
      "execution_count": 16,
      "outputs": []
    },
    {
      "cell_type": "code",
      "source": [
        "#testing for different values of alpha and temperature\n",
        "student_train_and_evaluate(fc_model,compute_student_loss,ALPHA=0.9, DISTILLATION_TEMPERATURE=8)"
      ],
      "metadata": {
        "colab": {
          "base_uri": "https://localhost:8080/"
        },
        "id": "kowQBskH2Wps",
        "outputId": "a20edd05-adb0-4a43-a631-71ab567e98eb"
      },
      "execution_count": 17,
      "outputs": [
        {
          "output_type": "stream",
          "name": "stdout",
          "text": [
            "Epoch 1: Class_accuracy: 96.78%\n",
            "Epoch 2: Class_accuracy: 97.85%\n",
            "Epoch 3: Class_accuracy: 98.24%\n",
            "Epoch 4: Class_accuracy: 98.38%\n",
            "Epoch 5: Class_accuracy: 98.40%\n",
            "Epoch 6: Class_accuracy: 98.57%\n",
            "Epoch 7: Class_accuracy: 98.59%\n",
            "Epoch 8: Class_accuracy: 98.62%\n",
            "Epoch 9: Class_accuracy: 98.70%\n",
            "Epoch 10: Class_accuracy: 98.74%\n",
            "Epoch 11: Class_accuracy: 98.70%\n",
            "Epoch 12: Class_accuracy: 98.71%\n"
          ]
        }
      ]
    },
    {
      "cell_type": "code",
      "source": [
        "#testing for different values of alpha and temperature\n",
        "student_train_and_evaluate(fc_model,compute_student_loss,ALPHA=0.8, DISTILLATION_TEMPERATURE=8)"
      ],
      "metadata": {
        "colab": {
          "base_uri": "https://localhost:8080/"
        },
        "id": "top8d3bL37Hq",
        "outputId": "4c1f23f6-c503-4a6a-d329-dba401e95817"
      },
      "execution_count": 18,
      "outputs": [
        {
          "output_type": "stream",
          "name": "stdout",
          "text": [
            "Epoch 1: Class_accuracy: 98.78%\n",
            "Epoch 2: Class_accuracy: 98.82%\n",
            "Epoch 3: Class_accuracy: 98.80%\n",
            "Epoch 4: Class_accuracy: 98.81%\n",
            "Epoch 5: Class_accuracy: 98.85%\n",
            "Epoch 6: Class_accuracy: 98.89%\n",
            "Epoch 7: Class_accuracy: 98.84%\n",
            "Epoch 8: Class_accuracy: 98.92%\n",
            "Epoch 9: Class_accuracy: 98.88%\n",
            "Epoch 10: Class_accuracy: 98.90%\n",
            "Epoch 11: Class_accuracy: 98.98%\n",
            "Epoch 12: Class_accuracy: 98.92%\n"
          ]
        }
      ]
    },
    {
      "cell_type": "markdown",
      "source": [
        "# Test accuracy vs. temperature curve"
      ],
      "metadata": {
        "id": "sj1N38fnRTNB"
      }
    },
    {
      "cell_type": "code",
      "source": [
        "# your code start from here for step 6\n",
        "temperatures=[1,2,4,16,32,64]\n",
        "alpha=0.5\n",
        "test_accuracy=[]\n",
        "for i in range(6):\n",
        "  fc_model=tf.keras.Sequential([tf.keras.layers.Flatten(),\n",
        "                                tf.keras.layers.Dense(units=784, activation='relu'),\n",
        "                                tf.keras.layers.Dense(units=784, activation='relu'),\n",
        "                                tf.keras.layers.Dense(units=10, activation='linear')])\n",
        "  student_train_and_evaluate(fc_model,compute_student_loss,alpha,temperatures[i])\n",
        "  num_correct = 0\n",
        "  num_total = builder.info.splits['test'].num_examples\n",
        "  print('For Distilliation temperature: ', temperatures[i])\n",
        "  for images, labels in mnist_test:\n",
        "      num_correct += compute_num_correct(fc_model,images,labels)[0] \n",
        "  print(\"Class_accuracy: \" + '{:.2f}%'.format(\n",
        "        num_correct / num_total * 100))\n",
        "  test_accuracy.append(num_correct / num_total * 100)\n"
      ],
      "metadata": {
        "id": "gX4dbazrRWIz",
        "colab": {
          "base_uri": "https://localhost:8080/"
        },
        "outputId": "fcd48c1d-42fe-40e5-cbd2-22835ff11b06"
      },
      "execution_count": 19,
      "outputs": [
        {
          "output_type": "stream",
          "name": "stdout",
          "text": [
            "Epoch 1: Class_accuracy: 95.58%\n",
            "Epoch 2: Class_accuracy: 97.74%\n",
            "Epoch 3: Class_accuracy: 98.07%\n",
            "Epoch 4: Class_accuracy: 98.04%\n",
            "Epoch 5: Class_accuracy: 98.10%\n",
            "Epoch 6: Class_accuracy: 97.63%\n",
            "Epoch 7: Class_accuracy: 98.29%\n",
            "Epoch 8: Class_accuracy: 98.50%\n",
            "Epoch 9: Class_accuracy: 98.15%\n",
            "Epoch 10: Class_accuracy: 98.49%\n",
            "Epoch 11: Class_accuracy: 98.32%\n",
            "Epoch 12: Class_accuracy: 98.41%\n",
            "For Distilliation temperature:  1\n",
            "Class_accuracy: 98.41%\n",
            "Epoch 1: Class_accuracy: 96.38%\n",
            "Epoch 2: Class_accuracy: 97.56%\n",
            "Epoch 3: Class_accuracy: 97.88%\n",
            "Epoch 4: Class_accuracy: 98.02%\n",
            "Epoch 5: Class_accuracy: 98.30%\n",
            "Epoch 6: Class_accuracy: 98.45%\n",
            "Epoch 7: Class_accuracy: 98.34%\n",
            "Epoch 8: Class_accuracy: 98.55%\n",
            "Epoch 9: Class_accuracy: 98.51%\n",
            "Epoch 10: Class_accuracy: 98.52%\n",
            "Epoch 11: Class_accuracy: 98.52%\n",
            "Epoch 12: Class_accuracy: 98.62%\n",
            "For Distilliation temperature:  2\n",
            "Class_accuracy: 98.62%\n",
            "Epoch 1: Class_accuracy: 96.77%\n",
            "Epoch 2: Class_accuracy: 97.80%\n",
            "Epoch 3: Class_accuracy: 98.33%\n",
            "Epoch 4: Class_accuracy: 98.34%\n",
            "Epoch 5: Class_accuracy: 98.45%\n",
            "Epoch 6: Class_accuracy: 98.63%\n",
            "Epoch 7: Class_accuracy: 98.63%\n",
            "Epoch 8: Class_accuracy: 98.72%\n",
            "Epoch 9: Class_accuracy: 98.72%\n",
            "Epoch 10: Class_accuracy: 98.75%\n",
            "Epoch 11: Class_accuracy: 98.75%\n",
            "Epoch 12: Class_accuracy: 98.74%\n",
            "For Distilliation temperature:  4\n",
            "Class_accuracy: 98.74%\n",
            "Epoch 1: Class_accuracy: 96.71%\n",
            "Epoch 2: Class_accuracy: 97.90%\n",
            "Epoch 3: Class_accuracy: 98.12%\n",
            "Epoch 4: Class_accuracy: 98.43%\n",
            "Epoch 5: Class_accuracy: 98.57%\n",
            "Epoch 6: Class_accuracy: 98.57%\n",
            "Epoch 7: Class_accuracy: 98.62%\n",
            "Epoch 8: Class_accuracy: 98.69%\n",
            "Epoch 9: Class_accuracy: 98.72%\n",
            "Epoch 10: Class_accuracy: 98.68%\n",
            "Epoch 11: Class_accuracy: 98.69%\n",
            "Epoch 12: Class_accuracy: 98.74%\n",
            "For Distilliation temperature:  16\n",
            "Class_accuracy: 98.74%\n",
            "Epoch 1: Class_accuracy: 96.85%\n",
            "Epoch 2: Class_accuracy: 97.96%\n",
            "Epoch 3: Class_accuracy: 98.12%\n",
            "Epoch 4: Class_accuracy: 98.39%\n",
            "Epoch 5: Class_accuracy: 98.40%\n",
            "Epoch 6: Class_accuracy: 98.55%\n",
            "Epoch 7: Class_accuracy: 98.58%\n",
            "Epoch 8: Class_accuracy: 98.62%\n",
            "Epoch 9: Class_accuracy: 98.67%\n",
            "Epoch 10: Class_accuracy: 98.72%\n",
            "Epoch 11: Class_accuracy: 98.78%\n",
            "Epoch 12: Class_accuracy: 98.71%\n",
            "For Distilliation temperature:  32\n",
            "Class_accuracy: 98.71%\n",
            "Epoch 1: Class_accuracy: 96.93%\n",
            "Epoch 2: Class_accuracy: 97.86%\n",
            "Epoch 3: Class_accuracy: 98.22%\n",
            "Epoch 4: Class_accuracy: 98.45%\n",
            "Epoch 5: Class_accuracy: 98.52%\n",
            "Epoch 6: Class_accuracy: 98.63%\n",
            "Epoch 7: Class_accuracy: 98.66%\n",
            "Epoch 8: Class_accuracy: 98.73%\n",
            "Epoch 9: Class_accuracy: 98.77%\n",
            "Epoch 10: Class_accuracy: 98.74%\n",
            "Epoch 11: Class_accuracy: 98.83%\n",
            "Epoch 12: Class_accuracy: 98.82%\n",
            "For Distilliation temperature:  64\n",
            "Class_accuracy: 98.82%\n"
          ]
        }
      ]
    },
    {
      "cell_type": "code",
      "source": [
        "#ploting Test accuracy vs. tempreture curve\n",
        "plt.plot(temperatures, test_accuracy)\n",
        "plt.title('Test accuracy vs. temperature curve')\n",
        "plt.xlabel('Temperture')\n",
        "plt.ylabel('Accuracy')\n",
        "plt.show()"
      ],
      "metadata": {
        "colab": {
          "base_uri": "https://localhost:8080/",
          "height": 295
        },
        "id": "nXa9-MFv8k4A",
        "outputId": "766d1ede-19e5-4912-a714-c98e899e2720"
      },
      "execution_count": 20,
      "outputs": [
        {
          "output_type": "display_data",
          "data": {
            "text/plain": [
              "<Figure size 432x288 with 1 Axes>"
            ],
            "image/png": "[encoded data removed]"
          },
          "metadata": {
            "needs_background": "light"
          }
        }
      ]
    },
    {
      "cell_type": "markdown",
      "source": [],
      "metadata": {
        "id": "J7ECDfjy3kiF"
      }
    },
    {
      "cell_type": "markdown",
      "source": [
        "# Train student from scratch"
      ],
      "metadata": {
        "id": "WNrH_1emRbGA"
      }
    },
    {
      "cell_type": "code",
      "source": [
        "# Build fully connected student.\n",
        "fc_model_no_distillation = tf.keras.Sequential(\n",
        "    [tf.keras.layers.Flatten(),\n",
        "     tf.keras.layers.Dense(units=784, activation='relu'),\n",
        "     tf.keras.layers.Dense(units=784, activation='relu'),\n",
        "     tf.keras.layers.Dense(units=10, activation='linear')]\n",
        ")\n",
        "\n",
        "# your code start from here for step 7\n",
        "\n",
        "\n",
        "\n",
        "\n",
        "\n",
        "def compute_plain_cross_entropy_loss(images, labels):\n",
        "  \"\"\"Compute plain loss for given images and labels.\n",
        "\n",
        "  For fair comparison and convenience, this function also performs a\n",
        "  LogSumExp over subclasses, but does not perform subclass distillation.\n",
        "\n",
        "  Args:\n",
        "    images: Tensor representing a batch of images.\n",
        "    labels: Tensor representing a batch of labels.\n",
        "\n",
        "  Returns:\n",
        "    Scalar loss Tensor.\n",
        "  \"\"\"\n",
        "  # your code start from here for step 7\n",
        "  student_subclass_logits = fc_model_no_distillation(images, training=True)\n",
        "  loss=tf.keras.losses.CategoricalCrossentropy(axis=-1,name='categorical_crossentropy')\n",
        "  cross_entropy_loss = loss(labels,tf.nn.softmax(student_subclass_logits, axis=-1))\n",
        "  \n",
        "  return cross_entropy_loss\n",
        "\n",
        "\n",
        "train_and_evaluate(fc_model_no_distillation, compute_plain_cross_entropy_loss)"
      ],
      "metadata": {
        "id": "HjospsxIRbQ6",
        "colab": {
          "base_uri": "https://localhost:8080/"
        },
        "outputId": "ebaeaadd-8a96-4818-832c-2f3eb721a9a9"
      },
      "execution_count": 21,
      "outputs": [
        {
          "output_type": "stream",
          "name": "stdout",
          "text": [
            "Epoch 1: Class_accuracy: 96.91%\n",
            "Epoch 2: Class_accuracy: 97.75%\n",
            "Epoch 3: Class_accuracy: 97.67%\n",
            "Epoch 4: Class_accuracy: 98.15%\n",
            "Epoch 5: Class_accuracy: 97.85%\n",
            "Epoch 6: Class_accuracy: 97.75%\n",
            "Epoch 7: Class_accuracy: 97.83%\n",
            "Epoch 8: Class_accuracy: 98.20%\n",
            "Epoch 9: Class_accuracy: 98.08%\n",
            "Epoch 10: Class_accuracy: 97.98%\n",
            "Epoch 11: Class_accuracy: 98.19%\n",
            "Epoch 12: Class_accuracy: 97.39%\n"
          ]
        }
      ]
    },
    {
      "cell_type": "markdown",
      "source": [
        "# Comparing the teacher and student model (number of of parameters and FLOPs) "
      ],
      "metadata": {
        "id": "yq3JTpQ4RuhR"
      }
    },
    {
      "cell_type": "code",
      "source": [
        "# your code start from here for step 8\n",
        "import tensorflow as tf\n",
        "from tensorflow.python.profiler.model_analyzer import profile\n",
        "from tensorflow.python.profiler.option_builder import ProfileOptionBuilder\n",
        "import numpy as np\n",
        "\n",
        "def get_flops(model):\n",
        " \n",
        "  forward_pass = tf.function(model.call,input_signature=[tf.TensorSpec(shape=(1,) + model.input_shape[1:])])\n",
        "  graph_info = profile(forward_pass.get_concrete_function().graph,\n",
        "                          options=ProfileOptionBuilder.float_operation())\n",
        "\n",
        "  # The //2 is important since `profile` counts multiply and accumulate as two flops\n",
        "  # We have calculated the total number of multiply accumulate ops\n",
        "  flops = graph_info.total_float_ops // 2\n",
        "  # Calculate no. of model parameters including trainable and non-trainable parameters\n",
        "  trainableParams = np.sum([np.prod(v.get_shape()) for v in model.trainable_weights])\n",
        "  nonTrainableParams = np.sum([np.prod(v.get_shape()) for v in model.non_trainable_weights])\n",
        "  totalParams = trainableParams + nonTrainableParams\n",
        "\n",
        "  return flops,trainableParams,nonTrainableParams,totalParams"
      ],
      "metadata": {
        "id": "4V8GB2yRRuxF"
      },
      "execution_count": 22,
      "outputs": []
    },
    {
      "cell_type": "code",
      "source": [
        "#Calculating FLOPs and no. of parameters for the teacher model\n",
        "\n",
        "flops_teacher,teacher_trainableParams,teacher_nonTrainableParams,teacher_totalParams = get_flops(cnn_model)\n",
        "print('Flops for teacher model: {:,}'.format(flops_teacher))\n",
        "print('Total Parameters for teacher model: {:,}'.format(teacher_totalParams))"
      ],
      "metadata": {
        "colab": {
          "base_uri": "https://localhost:8080/"
        },
        "id": "4nDpu9or_47y",
        "outputId": "65daaae0-a917-4cfb-d461-de8f4c6e1053"
      },
      "execution_count": 23,
      "outputs": [
        {
          "output_type": "stream",
          "name": "stderr",
          "text": [
            "WARNING:tensorflow:From /usr/local/lib/python3.7/dist-packages/tensorflow/python/ops/nn_ops.py:5219: tensor_shape_from_node_def_name (from tensorflow.python.framework.graph_util_impl) is deprecated and will be removed in a future version.\n",
            "Instructions for updating:\n",
            "Use `tf.compat.v1.graph_util.tensor_shape_from_node_def_name`\n"
          ]
        },
        {
          "output_type": "stream",
          "name": "stdout",
          "text": [
            "Flops for teacher model: 15,152,677\n",
            "Total Parameters for teacher model: 1,404,682.0\n"
          ]
        }
      ]
    },
    {
      "cell_type": "code",
      "source": [
        "#Calculating FLOPs and no. of parameters for the student model \n",
        "\n",
        "flops_student,student_trainableParams,student_nonTrainableParams,student_totalParams = get_flops(fc_model)\n",
        "print('Flops for student model: {:,}'.format(flops_student))\n",
        "print('Total Parameters for student model: {:,}'.format(student_totalParams))"
      ],
      "metadata": {
        "colab": {
          "base_uri": "https://localhost:8080/"
        },
        "id": "7t2KOVhqAAzA",
        "outputId": "403205b7-cc46-42a1-b4a5-17bc39eb84a3"
      },
      "execution_count": 24,
      "outputs": [
        {
          "output_type": "stream",
          "name": "stdout",
          "text": [
            "Flops for student model: 1,237,941\n",
            "Total Parameters for student model: 1,238,730.0\n"
          ]
        }
      ]
    },
    {
      "cell_type": "markdown",
      "source": [
        "# Implementing the state-of-the-art KD algorithm using fitnets"
      ],
      "metadata": {
        "id": "KjwJ5oziRvRn"
      }
    },
    {
      "cell_type": "code",
      "source": [
        "# your code start from here for step 12\n",
        "#Model Creation for student baby till the guided layer\n",
        "student_baby = tf.keras.Sequential([tf.keras.layers.Flatten(),\n",
        "                                tf.keras.layers.Dense(units=784, activation='relu'),\n",
        "                                tf.keras.layers.Dense(units=784, activation='relu'),\n",
        "                                tf.keras.layers.Dense(units=128, activation='relu')])\n",
        "#Model Creation for student test incorporating student baby and the rest of the layers\n",
        "student_test =  tf.keras.Sequential([student_baby,tf.keras.layers.Dense(units=10, activation='linear')])\n",
        "\n",
        "#Model Creation for teacher baby till the hint layer\n",
        "teacher_baby = tf.keras.Sequential([tf.keras.layers.Conv2D(filters=32, \n",
        "                           kernel_size=(3,3), \n",
        "                           strides=1, \n",
        "                           padding='same',\n",
        "                           activation='relu',\n",
        "                           input_shape=(28,28,1)),\n",
        "\n",
        "                    tf.keras.layers.MaxPool2D(pool_size=(2, 2), strides=1),\n",
        "\n",
        "                    tf.keras.layers.Conv2D(filters=64, \n",
        "                           kernel_size=(3,3), \n",
        "                           strides=1, \n",
        "                           padding='same',\n",
        "                           activation='relu'),\n",
        "\n",
        "                   tf.keras.layers.MaxPool2D(pool_size=(2, 2), strides=2),\n",
        "                   tf.keras.layers.Flatten(),\n",
        "                   tf.keras.layers.Dropout(rate=0.5),\n",
        "                   tf.keras.layers.Dense(units=128, activation='relu')])\n",
        "\n",
        "\n",
        "#Model Creation for teacher test incorporating student baby and the rest of the layers\n",
        "teacher_test =   tf.keras.Sequential([ teacher_baby,\n",
        "                                     tf.keras.layers.Dropout(rate=0.5),\n",
        "                                     tf.keras.layers.Dense(units=10, activation='linear')])"
      ],
      "metadata": {
        "id": "q10lybAFRvZt"
      },
      "execution_count": 25,
      "outputs": []
    },
    {
      "cell_type": "code",
      "source": [
        "def compute_teacher_loss_Fitnets(images, labels):\n",
        "  \"\"\"Compute subclass knowledge distillation teacher baby loss for given images\n",
        "     and labels.\n",
        "  Args:\n",
        "    images: Tensor representing a batch of images.\n",
        "    labels: Tensor representing a batch of labels.\n",
        "\n",
        "  Returns:\n",
        "    Scalar loss Tensor.\n",
        "  \"\"\"\n",
        "  subclass_logits = teacher_test(images, training=True)\n",
        "\n",
        "  # Compute cross-entropy loss for subclasses.\n",
        "\n",
        "  loss=tf.keras.losses.CategoricalCrossentropy(axis=-1,name='categorical_crossentropy')\n",
        "  cross_entropy_loss_value = loss(labels,tf.nn.softmax(subclass_logits, axis=-1))\n",
        "  return cross_entropy_loss_value"
      ],
      "metadata": {
        "id": "1Vwm0WuFISsM"
      },
      "execution_count": 26,
      "outputs": []
    },
    {
      "cell_type": "code",
      "source": [
        "#Calculating teacher loss with the Fitnet teacher setup\n",
        "train_and_evaluate(teacher_test,compute_teacher_loss_Fitnets)"
      ],
      "metadata": {
        "colab": {
          "base_uri": "https://localhost:8080/"
        },
        "id": "f_Q90RTRIUmM",
        "outputId": "a3c621c0-9830-412f-9a13-c73987995547"
      },
      "execution_count": 27,
      "outputs": [
        {
          "output_type": "stream",
          "name": "stdout",
          "text": [
            "Epoch 1: Class_accuracy: 98.20%\n",
            "Epoch 2: Class_accuracy: 98.62%\n",
            "Epoch 3: Class_accuracy: 98.94%\n",
            "Epoch 4: Class_accuracy: 99.05%\n",
            "Epoch 5: Class_accuracy: 99.05%\n",
            "Epoch 6: Class_accuracy: 99.10%\n",
            "Epoch 7: Class_accuracy: 99.11%\n",
            "Epoch 8: Class_accuracy: 99.21%\n",
            "Epoch 9: Class_accuracy: 99.21%\n",
            "Epoch 10: Class_accuracy: 99.17%\n",
            "Epoch 11: Class_accuracy: 99.19%\n",
            "Epoch 12: Class_accuracy: 99.24%\n"
          ]
        }
      ]
    },
    {
      "cell_type": "code",
      "source": [
        "student_test.build(input_shape=(None,28,28,1))\n",
        "student_test.summary()"
      ],
      "metadata": {
        "colab": {
          "base_uri": "https://localhost:8080/"
        },
        "id": "U7YscvPpIW0L",
        "outputId": "7a24fe95-c58a-4cb2-f44b-e1c498a60e85"
      },
      "execution_count": 28,
      "outputs": [
        {
          "output_type": "stream",
          "name": "stdout",
          "text": [
            "Model: \"sequential_13\"\n",
            "_________________________________________________________________\n",
            " Layer (type)                Output Shape              Param #   \n",
            "=================================================================\n",
            " sequential_12 (Sequential)  (None, 128)               1331360   \n",
            "                                                                 \n",
            " dense_37 (Dense)            (None, 10)                1290      \n",
            "                                                                 \n",
            "=================================================================\n",
            "Total params: 1,332,650\n",
            "Trainable params: 1,332,650\n",
            "Non-trainable params: 0\n",
            "_________________________________________________________________\n"
          ]
        }
      ]
    },
    {
      "cell_type": "code",
      "source": [
        "#Calculate the student L2 norm loss\n",
        "def compute_student_loss_new(teacher_baby, student_baby, inp_imag):\n",
        "\n",
        "  \"\"\"\n",
        "  Compute L2 norm of the outputs of these hint and guided layers \n",
        "  Args:\n",
        "    images: Tensor representing a batch of images.\n",
        "    teacher_baby: The TensorFlow teacher model with final layer as hint layer \n",
        "    student_baby: The TensorFlow student model with final layer as guided layer\n",
        "    \n",
        "  Returns:\n",
        "    Scalar loss Tensor.\n",
        "  \"\"\"\n",
        "  prediction_student_baby = student_baby(inp_imag)\n",
        "  prediction_teacher_baby = teacher_baby(inp_imag)\n",
        "  loss = tf.math.sqrt(tf.math.reduce_sum(tf.math.pow((prediction_teacher_baby-prediction_student_baby),2)))\n",
        "    #print('loss: ',loss)\n",
        "  return loss"
      ],
      "metadata": {
        "id": "s-D9pp9DIa2_"
      },
      "execution_count": 29,
      "outputs": []
    },
    {
      "cell_type": "code",
      "source": [
        "def compute_student_loss(images, labels,teacher_baby, student_baby, ALPHA=0.9):\n",
        "  \"\"\"\n",
        "  Compute subclass knowledge distillation student test loss using fitnets method for the given images\n",
        "     and labels. Fitnets loss is calculated as the weighted sum of the L2 norm of the outputs of these hint \n",
        "     and guided layers along with the hard labels’ cross entropy loss for the student. \n",
        "\n",
        "  Args:\n",
        "    images: Tensor representing a batch of images.\n",
        "    labels: Tensor representing a batch of labels.\n",
        "    teacher_baby: The TensorFlow teacher model with final layer as hint layer \n",
        "    student_baby: The TensorFlow student model with final layer as guided layer\n",
        "    ALPHA: weight parameter to balance the contribution of two losses\n",
        "  Returns:\n",
        "    Scalar loss Tensor.\n",
        "  \"\"\"\n",
        "  student_subclass_logits = student_test(images, training=True)\n",
        "\n",
        "  # Compute subclass distillation loss between student subclass logits and\n",
        "  # softened teacher subclass targets probabilities.\n",
        "\n",
        "  teacher_subclass_logits = teacher_test(images, training=False)\n",
        "  distillation_loss_value = compute_student_loss_new(teacher_baby, student_baby, images)\n",
        "\n",
        "  # Compute cross-entropy loss with hard targets.\n",
        "  \n",
        "  loss=tf.keras.losses.CategoricalCrossentropy(axis=-1,name='categorical_crossentropy')\n",
        "  cross_entropy_loss_value = loss(labels,tf.nn.softmax(student_subclass_logits, axis=-1))\n",
        "  return (ALPHA*  distillation_loss_value + (1-ALPHA)* cross_entropy_loss_value)"
      ],
      "metadata": {
        "id": "_9tsA7I1Ibol"
      },
      "execution_count": 30,
      "outputs": []
    },
    {
      "cell_type": "code",
      "source": [
        "def train_and_evaluate_new(teacher,student,teacher_baby,student_baby,compute_loss_fn):\n",
        "  \"\"\"\n",
        "  Compute subclass knowledge distillation student test loss using fitnets method for the given images\n",
        "     and labels. Fitnets loss is calculated as the weighted sum of the L2 norm of the outputs of these hint \n",
        "     and guided layers along with the hard labels’ cross entropy loss for the student. \n",
        "\n",
        "  Args:\n",
        "\n",
        "    teacher_baby: The TensorFlow teacher model with final layer as hint layer \n",
        "    student_baby: The TensorFlow student model with final layer as guided layer\n",
        "    student: The Tensorflow student model consisting of baby student followed by the classification layer \n",
        "    teacher: The TensorFlow teacher model consisting of baby teacher followed by the dropout and the classification layer\n",
        "    compute_loss_fn: loss function for fitnets\n",
        "  Returns:\n",
        "    Prints the Epoch wise model accuracy.\n",
        "  \"\"\"\n",
        "  optimizer = tf.keras.optimizers.Adam(learning_rate=0.001)\n",
        "\n",
        "  for epoch in range(1, NUM_EPOCHS + 1):\n",
        "    # Run training.\n",
        "    print('Epoch {}: '.format(epoch), end='')\n",
        "    for images, labels in mnist_train:\n",
        "      with tf.GradientTape() as tape:\n",
        "        loss_value = compute_student_loss(images, labels,teacher_baby, student_baby, ALPHA=0.8)\n",
        "      grads = tape.gradient(loss_value, student.trainable_variables)\n",
        "      optimizer.apply_gradients(zip(grads, student.trainable_variables))\n",
        "    \n",
        "    # Run evaluation.\n",
        "    num_correct = 0\n",
        "    num_total = builder.info.splits['test'].num_examples\n",
        "    for images, labels in mnist_test:\n",
        "      num_correct += compute_num_correct(student,images,labels)[0] \n",
        "    print(\"Class_accuracy: \" + '{:.2f}%'.format(\n",
        "        num_correct / num_total * 100))"
      ],
      "metadata": {
        "id": "-eALlFUzIezF"
      },
      "execution_count": 31,
      "outputs": []
    },
    {
      "cell_type": "code",
      "source": [
        "#Calculating student loss with the Fitnets setup\n",
        "train_and_evaluate_new(teacher_test,student_test,teacher_baby,student_baby, compute_student_loss)"
      ],
      "metadata": {
        "colab": {
          "base_uri": "https://localhost:8080/"
        },
        "id": "EWbfo78AIiDX",
        "outputId": "5eae2c4a-e97d-4a50-ab79-9d5229e63194"
      },
      "execution_count": 32,
      "outputs": [
        {
          "output_type": "stream",
          "name": "stdout",
          "text": [
            "Epoch 1: Class_accuracy: 96.47%\n",
            "Epoch 2: Class_accuracy: 97.77%\n",
            "Epoch 3: Class_accuracy: 98.34%\n",
            "Epoch 4: Class_accuracy: 98.49%\n",
            "Epoch 5: Class_accuracy: 98.63%\n",
            "Epoch 6: Class_accuracy: 98.72%\n",
            "Epoch 7: Class_accuracy: 98.82%\n",
            "Epoch 8: Class_accuracy: 98.88%\n",
            "Epoch 9: Class_accuracy: 98.85%\n",
            "Epoch 10: Class_accuracy: 99.00%\n",
            "Epoch 11: Class_accuracy: 98.96%\n",
            "Epoch 12: Class_accuracy: 98.98%\n"
          ]
        }
      ]
    },
    {
      "cell_type": "markdown",
      "source": [
        "# (Optional) XAI method to explain models"
      ],
      "metadata": {
        "id": "6dsOmtqdieIC"
      }
    },
    {
      "cell_type": "code",
      "source": [
        "# your code start from here for step 13\n"
      ],
      "metadata": {
        "id": "X0IMIFW8ilPO"
      },
      "execution_count": null,
      "outputs": []
    }
  ]
}